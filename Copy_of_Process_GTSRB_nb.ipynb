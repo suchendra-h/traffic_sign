{
  "nbformat": 4,
  "nbformat_minor": 0,
  "metadata": {
    "kernelspec": {
      "name": "python3",
      "display_name": "Python 3"
    },
    "language_info": {
      "codemirror_mode": {
        "name": "ipython",
        "version": 2
      },
      "file_extension": ".py",
      "mimetype": "text/x-python",
      "name": "python",
      "nbconvert_exporter": "python",
      "pygments_lexer": "ipython2",
      "version": "2.7.6"
    },
    "pycharm": {
      "stem_cell": {
        "cell_type": "raw",
        "source": [],
        "metadata": {
          "collapsed": false
        }
      }
    },
    "colab": {
      "name": "Copy of Process_GTSRB_nb.ipynb",
      "provenance": [],
      "collapsed_sections": [],
      "include_colab_link": true
    },
    "accelerator": "TPU"
  },
  "cells": [
    {
      "cell_type": "markdown",
      "metadata": {
        "id": "view-in-github",
        "colab_type": "text"
      },
      "source": [
        "<a href=\"https://colab.research.google.com/github/suchendra-h/traffic_sign/blob/master/Copy_of_Process_GTSRB_nb.ipynb\" target=\"_parent\"><img src=\"https://colab.research.google.com/assets/colab-badge.svg\" alt=\"Open In Colab\"/></a>"
      ]
    },
    {
      "cell_type": "code",
      "metadata": {
        "id": "yxmjmxzWglA9",
        "colab_type": "code",
        "colab": {}
      },
      "source": [
        "!pip uninstall tensorflow\n",
        "!pip install tensorflow==2.1\n"
      ],
      "execution_count": 0,
      "outputs": []
    },
    {
      "cell_type": "code",
      "metadata": {
        "id": "e6pNBCuiYh3s",
        "colab_type": "code",
        "colab": {}
      },
      "source": [
        "import tensorflow as tf\n",
        "print(tf.__version__)"
      ],
      "execution_count": 0,
      "outputs": []
    },
    {
      "cell_type": "code",
      "metadata": {
        "id": "am0KZB8gXbeK",
        "colab_type": "code",
        "colab": {}
      },
      "source": [
        "from __future__ import absolute_import, division, print_function, unicode_literals\n",
        "from PIL import Image\n",
        "import os\n",
        "from tensorflow.keras import datasets, layers, models\n",
        "from tensorflow.keras.models import Sequential\n",
        "from tensorflow.keras.layers import Dense, Conv2D, Flatten, Dropout, MaxPooling2D\n",
        "from tensorflow.keras.preprocessing.image import ImageDataGenerator\n",
        "import numpy as np\n",
        "import tensorflow_hub as hub\n",
        "import matplotlib\n",
        "import matplotlib.pyplot as plt\n",
        "import zipfile, csv, random, pathlib, time\n",
        "from google.colab import drive\n",
        "\n",
        "################################################################################\n",
        "drive.mount('/content/drive')\n"
      ],
      "execution_count": 0,
      "outputs": []
    },
    {
      "cell_type": "code",
      "metadata": {
        "colab_type": "code",
        "id": "RWSJpsyKqHjH",
        "outputId": "75ddf00a-2ff9-4ccd-d357-8715295902aa",
        "colab": {
          "base_uri": "https://localhost:8080/",
          "height": 54
        }
      },
      "source": [
        "### prepare class lables from training and validation folders\n",
        "\n",
        "training_data_dir = \"/content/drive/My Drive/Colab Notebooks/dataset/training\"\n",
        "training_data_dir = pathlib.Path(training_data_dir)\n",
        "image_count = len(list(training_data_dir.glob('*/*.jpg')))\n",
        "tmp = np.array([item.name for item in training_data_dir.glob('*') if item.name != \"LICENSE.txt\"])\n",
        "tmp = np.sort(tmp.astype(int))\n",
        "training_class_names = np.array(['0000' + np.str(i) for i in tmp if i < 10] +\\\n",
        "['000' + np.str(i) for i in tmp if i >= 10])\n",
        "\n",
        "### validation\n",
        "tmp_validation_data_dir = \"/content/drive/My Drive/Colab Notebooks/dataset/validation\"\n",
        "tmp_validation_data_dir = pathlib.Path(tmp_validation_data_dir)\n",
        "tmp = np.array([item.name for item in tmp_validation_data_dir.glob('*') if item.name != \"GT-final_test.csv\"])\n",
        "tmp = np.sort(tmp.astype(int))\n",
        "validation_class_names = np.array(['0000' + np.str(i) for i in tmp if i < 10] +\\\n",
        "['000' + np.str(i) for i in tmp if i >= 10])\n",
        "\n",
        "### prepare call back path\n",
        "checkpoint_path = \"/content/drive/My Drive/Colab Notebooks/dataset/checkpoints/\"\n",
        "checkpoint_dir = os.path.dirname(checkpoint_path)\n",
        "\n",
        "# Create a callback that saves the model's weights every epoch\n",
        "cp_callback = tf.keras.callbacks.ModelCheckpoint(\n",
        "    filepath=checkpoint_path, \n",
        "    verbose=1, \n",
        "    save_weights_only=True,\n",
        "    period=1)"
      ],
      "execution_count": 3,
      "outputs": [
        {
          "output_type": "stream",
          "text": [
            "WARNING:tensorflow:`period` argument is deprecated. Please use `save_freq` to specify the frequency in number of samples seen.\n"
          ],
          "name": "stdout"
        }
      ]
    },
    {
      "cell_type": "code",
      "metadata": {
        "colab_type": "code",
        "id": "uaIEAptmVGbd",
        "colab": {
          "base_uri": "https://localhost:8080/",
          "height": 1000
        },
        "outputId": "ff01a9fa-70a6-4f43-9b38-16d1ed639872"
      },
      "source": [
        "start = time.time()\n",
        "# The 1./255 is to convert from uint8 to float32 in range [0,1].\n",
        "image_generator = tf.keras.preprocessing.image.ImageDataGenerator(rescale=1./255)\n",
        "# image_gen_train = ImageDataGenerator(\n",
        "#                     rescale=1./255,\n",
        "#                     rotation_range=45,\n",
        "#                     width_shift_range=.15,\n",
        "#                     height_shift_range=.15,\n",
        "#                     horizontal_flip=True,\n",
        "#                     zoom_range=0.5\n",
        "#                     )\n",
        "validation_image_generator = ImageDataGenerator(rescale=1./255)\n",
        "BATCH_SIZE = 32\n",
        "IMG_HEIGHT = 224\n",
        "IMG_WIDTH = 224\n",
        "STEPS_PER_EPOCH = np.ceil(image_count/BATCH_SIZE)\n",
        "train_data_gen = image_generator.flow_from_directory(directory=str(training_data_dir),\n",
        "                                                     batch_size=BATCH_SIZE,\n",
        "                                                     shuffle=True,\n",
        "                                                     target_size=(IMG_HEIGHT, IMG_WIDTH),\n",
        "                                                     classes = list(training_class_names))\n",
        "# train_data_gen = image_gen_train.flow_from_directory(directory=str(training_data_dir),\n",
        "#                                                      batch_size=BATCH_SIZE,\n",
        "#                                                      shuffle=True,\n",
        "#                                                      target_size=(IMG_HEIGHT, IMG_WIDTH),\n",
        "#                                                      classes = list(training_class_names))\n",
        "validation_gen = validation_image_generator.flow_from_directory(directory=str(tmp_validation_data_dir),\n",
        "                                                     batch_size=BATCH_SIZE,\n",
        "                                                     shuffle=True   ,\n",
        "                                                     target_size=(IMG_HEIGHT, IMG_WIDTH),\n",
        "                                                     classes = list(validation_class_names))\n",
        "epochs = 30\n",
        "model = models.Sequential()\n",
        "model.add(layers.Conv2D(32, 3, padding='same', activation='relu', input_shape=(IMG_HEIGHT, IMG_WIDTH, 3)))\n",
        "model.add(layers.MaxPooling2D())\n",
        "model.add(layers.SpatialDropout2D(0.1))\n",
        "#model.add(layers.Conv2D(32, 3, padding='same', activation='relu'))\n",
        "#model.add(layers.MaxPooling2D())\n",
        "#model.add(layers.SpatialDropout2D(0.1))\n",
        "#model.add(layers.Conv2D(64, 3, padding='same',activation='relu'))\n",
        "#model.add(layers.MaxPooling2D())\n",
        "#model.add(layers.SpatialDropout2D(0.1))\n",
        "#model.add(layers.UpSampling2D())\n",
        "#model.add(layers.Conv2D(128, 3, padding='same', activation='relu'))\n",
        "#model.add(layers.MaxPooling2D())\n",
        "#model.add(layers.SpatialDropout2D(0.1))\n",
        "model.add(Flatten())\n",
        "#model.add(Dense(512, activation='relu'))\n",
        "model.add(Dense(43))\n",
        "\n",
        "model.compile(optimizer='adam',\n",
        "              loss=tf.keras.losses.CategoricalCrossentropy(from_logits=True),\n",
        "              metrics=['accuracy'])\n",
        "\n",
        "model.build(input_shape=(IMG_HEIGHT, IMG_WIDTH, 3))\n",
        "model.summary()\n",
        "# history = model.fit(labeled_training_ds, epochs=5, validation_data=(validation_images, validation_labels))\n",
        "history = model.fit(train_data_gen, epochs=epochs,\n",
        "                    validation_data=validation_gen,\n",
        "                    callbacks=[cp_callback])\n",
        "# save the model\n",
        "saved_model_path = \"/content/drive/My Drive/Colab Notebooks/dataset/saved_models\"\n",
        "model.save('saved_model/my_model')\n",
        "\n",
        "\n",
        "acc = history.history['accuracy']\n",
        "val_acc = history.history['val_accuracy']\n",
        "\n",
        "loss=history.history['loss']\n",
        "val_loss=history.history['val_loss']\n",
        "\n",
        "epochs_range = range(epochs)\n",
        "\n",
        "end = time.time()\n",
        "elapsed = end - start\n",
        "print('elapesed time:  ', elapsed)\n",
        "plt.figure(figsize=(8, 8))\n",
        "plt.subplot(1, 2, 1)\n",
        "plt.plot(epochs_range, acc, label='Training Accuracy')\n",
        "plt.plot(epochs_range, val_acc, label='Validation Accuracy')\n",
        "plt.legend(loc='lower right')\n",
        "plt.title('Training and Validation Accuracy')\n",
        "\n",
        "plt.subplot(1, 2, 2)\n",
        "plt.plot(epochs_range, loss, label='Training Loss')\n",
        "plt.plot(epochs_range, val_loss, label='Validation Loss')\n",
        "plt.legend(loc='upper right')\n",
        "plt.title('Training and Validation Loss')\n",
        "plt.show()\n"
      ],
      "execution_count": 4,
      "outputs": [
        {
          "output_type": "stream",
          "text": [
            "Found 26640 images belonging to 43 classes.\n",
            "Found 12630 images belonging to 43 classes.\n",
            "Model: \"sequential\"\n",
            "_________________________________________________________________\n",
            "Layer (type)                 Output Shape              Param #   \n",
            "=================================================================\n",
            "conv2d (Conv2D)              (None, 224, 224, 32)      896       \n",
            "_________________________________________________________________\n",
            "max_pooling2d (MaxPooling2D) (None, 112, 112, 32)      0         \n",
            "_________________________________________________________________\n",
            "spatial_dropout2d (SpatialDr (None, 112, 112, 32)      0         \n",
            "_________________________________________________________________\n",
            "flatten (Flatten)            (None, 401408)            0         \n",
            "_________________________________________________________________\n",
            "dense (Dense)                (None, 43)                17260587  \n",
            "=================================================================\n",
            "Total params: 17,261,483\n",
            "Trainable params: 17,261,483\n",
            "Non-trainable params: 0\n",
            "_________________________________________________________________\n",
            "WARNING:tensorflow:sample_weight modes were coerced from\n",
            "  ...\n",
            "    to  \n",
            "  ['...']\n",
            "WARNING:tensorflow:sample_weight modes were coerced from\n",
            "  ...\n",
            "    to  \n",
            "  ['...']\n",
            "Train for 833 steps, validate for 395 steps\n",
            "Epoch 1/30\n",
            "832/833 [============================>.] - ETA: 5s - loss: 1.4490 - accuracy: 0.6968 \n",
            "Epoch 00001: saving model to /content/drive/My Drive/Colab Notebooks/dataset/checkpoints/\n",
            "833/833 [==============================] - 6907s 8s/step - loss: 1.4477 - accuracy: 0.6970 - val_loss: 1.1180 - val_accuracy: 0.7127\n",
            "Epoch 2/30\n",
            "832/833 [============================>.] - ETA: 1s - loss: 0.3021 - accuracy: 0.9169\n",
            "Epoch 00002: saving model to /content/drive/My Drive/Colab Notebooks/dataset/checkpoints/\n",
            "833/833 [==============================] - 1023s 1s/step - loss: 0.3020 - accuracy: 0.9169 - val_loss: 1.1227 - val_accuracy: 0.7579\n",
            "Epoch 3/30\n",
            "832/833 [============================>.] - ETA: 1s - loss: 0.1629 - accuracy: 0.9552\n",
            "Epoch 00003: saving model to /content/drive/My Drive/Colab Notebooks/dataset/checkpoints/\n",
            "833/833 [==============================] - 1012s 1s/step - loss: 0.1632 - accuracy: 0.9551 - val_loss: 1.2129 - val_accuracy: 0.7543\n",
            "Epoch 4/30\n",
            "832/833 [============================>.] - ETA: 1s - loss: 0.1136 - accuracy: 0.9700\n",
            "Epoch 00004: saving model to /content/drive/My Drive/Colab Notebooks/dataset/checkpoints/\n",
            "833/833 [==============================] - 1017s 1s/step - loss: 0.1137 - accuracy: 0.9700 - val_loss: 1.2380 - val_accuracy: 0.7735\n",
            "Epoch 5/30\n",
            "832/833 [============================>.] - ETA: 1s - loss: 0.0922 - accuracy: 0.9752\n",
            "Epoch 00005: saving model to /content/drive/My Drive/Colab Notebooks/dataset/checkpoints/\n",
            "833/833 [==============================] - 1019s 1s/step - loss: 0.0922 - accuracy: 0.9752 - val_loss: 1.3747 - val_accuracy: 0.7728\n",
            "Epoch 6/30\n",
            "832/833 [============================>.] - ETA: 1s - loss: 0.0743 - accuracy: 0.9812\n",
            "Epoch 00006: saving model to /content/drive/My Drive/Colab Notebooks/dataset/checkpoints/\n",
            "833/833 [==============================] - 1020s 1s/step - loss: 0.0743 - accuracy: 0.9812 - val_loss: 1.4749 - val_accuracy: 0.7799\n",
            "Epoch 7/30\n",
            "832/833 [============================>.] - ETA: 1s - loss: 0.0576 - accuracy: 0.9840\n",
            "Epoch 00007: saving model to /content/drive/My Drive/Colab Notebooks/dataset/checkpoints/\n",
            "833/833 [==============================] - 1023s 1s/step - loss: 0.0576 - accuracy: 0.9840 - val_loss: 1.6009 - val_accuracy: 0.7717\n",
            "Epoch 8/30\n",
            "832/833 [============================>.] - ETA: 1s - loss: 0.0514 - accuracy: 0.9860\n",
            "Epoch 00008: saving model to /content/drive/My Drive/Colab Notebooks/dataset/checkpoints/\n",
            "833/833 [==============================] - 1026s 1s/step - loss: 0.0515 - accuracy: 0.9860 - val_loss: 1.6739 - val_accuracy: 0.7763\n",
            "Epoch 9/30\n",
            "832/833 [============================>.] - ETA: 1s - loss: 0.0407 - accuracy: 0.9893\n",
            "Epoch 00009: saving model to /content/drive/My Drive/Colab Notebooks/dataset/checkpoints/\n",
            "833/833 [==============================] - 1027s 1s/step - loss: 0.0406 - accuracy: 0.9893 - val_loss: 1.7202 - val_accuracy: 0.7835\n",
            "Epoch 10/30\n",
            "832/833 [============================>.] - ETA: 1s - loss: 0.0430 - accuracy: 0.9891\n",
            "Epoch 00010: saving model to /content/drive/My Drive/Colab Notebooks/dataset/checkpoints/\n",
            "833/833 [==============================] - 1023s 1s/step - loss: 0.0429 - accuracy: 0.9891 - val_loss: 1.9899 - val_accuracy: 0.7829\n",
            "Epoch 11/30\n",
            "832/833 [============================>.] - ETA: 1s - loss: 0.0316 - accuracy: 0.9923\n",
            "Epoch 00011: saving model to /content/drive/My Drive/Colab Notebooks/dataset/checkpoints/\n",
            "833/833 [==============================] - 1019s 1s/step - loss: 0.0316 - accuracy: 0.9923 - val_loss: 2.2281 - val_accuracy: 0.7826\n",
            "Epoch 12/30\n",
            "832/833 [============================>.] - ETA: 1s - loss: 0.0356 - accuracy: 0.9909\n",
            "Epoch 00012: saving model to /content/drive/My Drive/Colab Notebooks/dataset/checkpoints/\n",
            "833/833 [==============================] - 1023s 1s/step - loss: 0.0356 - accuracy: 0.9909 - val_loss: 2.0303 - val_accuracy: 0.7599\n",
            "Epoch 13/30\n",
            "832/833 [============================>.] - ETA: 1s - loss: 0.0335 - accuracy: 0.9914\n",
            "Epoch 00013: saving model to /content/drive/My Drive/Colab Notebooks/dataset/checkpoints/\n",
            "833/833 [==============================] - 1025s 1s/step - loss: 0.0335 - accuracy: 0.9914 - val_loss: 2.1524 - val_accuracy: 0.7793\n",
            "Epoch 14/30\n",
            "832/833 [============================>.] - ETA: 1s - loss: 0.0233 - accuracy: 0.9941\n",
            "Epoch 00014: saving model to /content/drive/My Drive/Colab Notebooks/dataset/checkpoints/\n",
            "833/833 [==============================] - 1027s 1s/step - loss: 0.0233 - accuracy: 0.9941 - val_loss: 2.1426 - val_accuracy: 0.7876\n",
            "Epoch 15/30\n",
            "832/833 [============================>.] - ETA: 1s - loss: 0.0234 - accuracy: 0.9943\n",
            "Epoch 00015: saving model to /content/drive/My Drive/Colab Notebooks/dataset/checkpoints/\n",
            "833/833 [==============================] - 1030s 1s/step - loss: 0.0233 - accuracy: 0.9943 - val_loss: 2.1447 - val_accuracy: 0.7814\n",
            "Epoch 16/30\n",
            "832/833 [============================>.] - ETA: 1s - loss: 0.0223 - accuracy: 0.9940\n",
            "Epoch 00016: saving model to /content/drive/My Drive/Colab Notebooks/dataset/checkpoints/\n",
            "833/833 [==============================] - 1021s 1s/step - loss: 0.0223 - accuracy: 0.9940 - val_loss: 2.3136 - val_accuracy: 0.7769\n",
            "Epoch 17/30\n",
            "832/833 [============================>.] - ETA: 1s - loss: 0.0236 - accuracy: 0.9935\n",
            "Epoch 00017: saving model to /content/drive/My Drive/Colab Notebooks/dataset/checkpoints/\n",
            "833/833 [==============================] - 1018s 1s/step - loss: 0.0236 - accuracy: 0.9935 - val_loss: 2.2969 - val_accuracy: 0.7956\n",
            "Epoch 18/30\n",
            "832/833 [============================>.] - ETA: 1s - loss: 0.0281 - accuracy: 0.9936\n",
            "Epoch 00018: saving model to /content/drive/My Drive/Colab Notebooks/dataset/checkpoints/\n",
            "833/833 [==============================] - 1018s 1s/step - loss: 0.0281 - accuracy: 0.9936 - val_loss: 2.5747 - val_accuracy: 0.7853\n",
            "Epoch 19/30\n",
            "832/833 [============================>.] - ETA: 1s - loss: 0.0204 - accuracy: 0.9946\n",
            "Epoch 00019: saving model to /content/drive/My Drive/Colab Notebooks/dataset/checkpoints/\n",
            "833/833 [==============================] - 1023s 1s/step - loss: 0.0203 - accuracy: 0.9946 - val_loss: 2.9255 - val_accuracy: 0.7894\n",
            "Epoch 20/30\n",
            "832/833 [============================>.] - ETA: 1s - loss: 0.0212 - accuracy: 0.9952\n",
            "Epoch 00020: saving model to /content/drive/My Drive/Colab Notebooks/dataset/checkpoints/\n",
            "833/833 [==============================] - 1021s 1s/step - loss: 0.0212 - accuracy: 0.9952 - val_loss: 2.8493 - val_accuracy: 0.7679\n",
            "Epoch 21/30\n",
            "832/833 [============================>.] - ETA: 1s - loss: 0.0146 - accuracy: 0.9965\n",
            "Epoch 00021: saving model to /content/drive/My Drive/Colab Notebooks/dataset/checkpoints/\n",
            "833/833 [==============================] - 1014s 1s/step - loss: 0.0146 - accuracy: 0.9965 - val_loss: 2.5194 - val_accuracy: 0.7880\n",
            "Epoch 22/30\n",
            "832/833 [============================>.] - ETA: 1s - loss: 0.0221 - accuracy: 0.9951\n",
            "Epoch 00022: saving model to /content/drive/My Drive/Colab Notebooks/dataset/checkpoints/\n",
            "833/833 [==============================] - 1020s 1s/step - loss: 0.0221 - accuracy: 0.9951 - val_loss: 2.5772 - val_accuracy: 0.7966\n",
            "Epoch 23/30\n",
            "832/833 [============================>.] - ETA: 1s - loss: 0.0173 - accuracy: 0.9957\n",
            "Epoch 00023: saving model to /content/drive/My Drive/Colab Notebooks/dataset/checkpoints/\n",
            "833/833 [==============================] - 1018s 1s/step - loss: 0.0173 - accuracy: 0.9957 - val_loss: 2.5388 - val_accuracy: 0.7819\n",
            "Epoch 24/30\n",
            "832/833 [============================>.] - ETA: 1s - loss: 0.0188 - accuracy: 0.9962\n",
            "Epoch 00024: saving model to /content/drive/My Drive/Colab Notebooks/dataset/checkpoints/\n",
            "833/833 [==============================] - 1014s 1s/step - loss: 0.0187 - accuracy: 0.9962 - val_loss: 2.4658 - val_accuracy: 0.8070\n",
            "Epoch 25/30\n",
            "832/833 [============================>.] - ETA: 1s - loss: 0.0095 - accuracy: 0.9977\n",
            "Epoch 00025: saving model to /content/drive/My Drive/Colab Notebooks/dataset/checkpoints/\n",
            "833/833 [==============================] - 1014s 1s/step - loss: 0.0095 - accuracy: 0.9977 - val_loss: 3.0966 - val_accuracy: 0.7753\n",
            "Epoch 26/30\n",
            "832/833 [============================>.] - ETA: 1s - loss: 0.0219 - accuracy: 0.9948\n",
            "Epoch 00026: saving model to /content/drive/My Drive/Colab Notebooks/dataset/checkpoints/\n",
            "833/833 [==============================] - 1013s 1s/step - loss: 0.0219 - accuracy: 0.9948 - val_loss: 2.9427 - val_accuracy: 0.7964\n",
            "Epoch 27/30\n",
            "832/833 [============================>.] - ETA: 1s - loss: 0.0106 - accuracy: 0.9975\n",
            "Epoch 00027: saving model to /content/drive/My Drive/Colab Notebooks/dataset/checkpoints/\n",
            "833/833 [==============================] - 1013s 1s/step - loss: 0.0106 - accuracy: 0.9975 - val_loss: 2.9578 - val_accuracy: 0.7937\n",
            "Epoch 28/30\n",
            "832/833 [============================>.] - ETA: 1s - loss: 0.0181 - accuracy: 0.9957\n",
            "Epoch 00028: saving model to /content/drive/My Drive/Colab Notebooks/dataset/checkpoints/\n",
            "833/833 [==============================] - 1012s 1s/step - loss: 0.0185 - accuracy: 0.9956 - val_loss: 2.9605 - val_accuracy: 0.7524\n",
            "Epoch 29/30\n",
            "832/833 [============================>.] - ETA: 1s - loss: 0.0104 - accuracy: 0.9971\n",
            "Epoch 00029: saving model to /content/drive/My Drive/Colab Notebooks/dataset/checkpoints/\n",
            "833/833 [==============================] - 1013s 1s/step - loss: 0.0104 - accuracy: 0.9971 - val_loss: 2.8194 - val_accuracy: 0.7953\n",
            "Epoch 30/30\n",
            "832/833 [============================>.] - ETA: 1s - loss: 0.0186 - accuracy: 0.9961\n",
            "Epoch 00030: saving model to /content/drive/My Drive/Colab Notebooks/dataset/checkpoints/\n",
            "833/833 [==============================] - 1011s 1s/step - loss: 0.0186 - accuracy: 0.9961 - val_loss: 2.9379 - val_accuracy: 0.7906\n",
            "WARNING:tensorflow:From /usr/local/lib/python3.6/dist-packages/tensorflow_core/python/ops/resource_variable_ops.py:1786: calling BaseResourceVariable.__init__ (from tensorflow.python.ops.resource_variable_ops) with constraint is deprecated and will be removed in a future version.\n",
            "Instructions for updating:\n",
            "If using Keras pass *_constraint arguments to layers.\n",
            "INFO:tensorflow:Assets written to: saved_model/my_model/assets\n",
            "elapesed time:   36480.504502534866\n"
          ],
          "name": "stdout"
        },
        {
          "output_type": "display_data",
          "data": {
            "image/png": "[encoded data removed]",
            "text/plain": [
              "<Figure size 576x576 with 2 Axes>"
            ]
          },
          "metadata": {
            "tags": []
          }
        }
      ]
    },
    {
      "cell_type": "code",
      "metadata": {
        "id": "8MV_Kv3BVQ9G",
        "colab_type": "code",
        "colab": {}
      },
      "source": [
        "cp_callback."
      ],
      "execution_count": 0,
      "outputs": []
    },
    {
      "cell_type": "code",
      "metadata": {
        "id": "mgsSmbLPxclT",
        "colab_type": "code",
        "colab": {
          "base_uri": "https://localhost:8080/",
          "height": 136
        },
        "outputId": "5ec47bb8-b919-4a15-af91-32f4bfd3004b"
      },
      "source": [
        "validation_class_names\n"
      ],
      "execution_count": 17,
      "outputs": [
        {
          "output_type": "execute_result",
          "data": {
            "text/plain": [
              "array(['00000', '00001', '00002', '00003', '00004', '00005', '00006',\n",
              "       '00007', '00008', '00009', '00010', '00011', '00012', '00013',\n",
              "       '00014', '00015', '00016', '00017', '00018', '00019', '00020',\n",
              "       '00021', '00022', '00023', '00024', '00025', '00026', '00027',\n",
              "       '00028', '00029', '00030', '00031', '00032', '00033', '00034',\n",
              "       '00035', '00036', '00037', '00038', '00039', '00040', '00041',\n",
              "       '00042'], dtype='<U5')"
            ]
          },
          "metadata": {
            "tags": []
          },
          "execution_count": 17
        }
      ]
    },
    {
      "cell_type": "code",
      "metadata": {
        "id": "eWOVE_Txy23M",
        "colab_type": "code",
        "colab": {
          "base_uri": "https://localhost:8080/",
          "height": 136
        },
        "outputId": "fd040600-bd53-4d36-a4e7-a3cb117d0cf4"
      },
      "source": [
        "training_class_names"
      ],
      "execution_count": 18,
      "outputs": [
        {
          "output_type": "execute_result",
          "data": {
            "text/plain": [
              "array(['00000', '00001', '00002', '00003', '00004', '00005', '00006',\n",
              "       '00007', '00008', '00009', '00010', '00011', '00012', '00013',\n",
              "       '00014', '00015', '00016', '00017', '00018', '00019', '00020',\n",
              "       '00021', '00022', '00023', '00024', '00025', '00026', '00027',\n",
              "       '00028', '00029', '00030', '00031', '00032', '00033', '00034',\n",
              "       '00035', '00036', '00037', '00038', '00039', '00040', '00041',\n",
              "       '00042'], dtype='<U5')"
            ]
          },
          "metadata": {
            "tags": []
          },
          "execution_count": 18
        }
      ]
    },
    {
      "cell_type": "code",
      "metadata": {
        "id": "sgxQxzJ6y4oh",
        "colab_type": "code",
        "colab": {
          "base_uri": "https://localhost:8080/",
          "height": 85
        },
        "outputId": "ad65b6b1-f123-48d4-c7e1-f7989f229d04"
      },
      "source": [
        "history.history"
      ],
      "execution_count": 30,
      "outputs": [
        {
          "output_type": "execute_result",
          "data": {
            "text/plain": [
              "{'accuracy': [0.6317568],\n",
              " 'loss': [4.542879317311553],\n",
              " 'val_accuracy': [0.67790973],\n",
              " 'val_loss': [1.2747363804261895]}"
            ]
          },
          "metadata": {
            "tags": []
          },
          "execution_count": 30
        }
      ]
    },
    {
      "cell_type": "code",
      "metadata": {
        "id": "6CCBpm56Rdny",
        "colab_type": "code",
        "colab": {
          "base_uri": "https://localhost:8080/",
          "height": 119
        },
        "outputId": "cb1ab572-28c5-4ec4-9ea5-c47ed323543a"
      },
      "source": [
        "model.evaluate(x=validation_gen)"
      ],
      "execution_count": 29,
      "outputs": [
        {
          "output_type": "stream",
          "text": [
            "WARNING:tensorflow:sample_weight modes were coerced from\n",
            "  ...\n",
            "    to  \n",
            "  ['...']\n",
            "395/395 [==============================] - 177s 449ms/step - loss: 1.2747 - accuracy: 0.6779\n"
          ],
          "name": "stdout"
        },
        {
          "output_type": "execute_result",
          "data": {
            "text/plain": [
              "[1.2747363804261895, 0.67790973]"
            ]
          },
          "metadata": {
            "tags": []
          },
          "execution_count": 29
        }
      ]
    },
    {
      "cell_type": "code",
      "metadata": {
        "id": "t6dSggCIUkCC",
        "colab_type": "code",
        "colab": {
          "base_uri": "https://localhost:8080/",
          "height": 34
        },
        "outputId": "2aac38ea-fa15-4846-8715-644d6a2931b9"
      },
      "source": [
        "validation_gen.classes\n"
      ],
      "execution_count": 13,
      "outputs": [
        {
          "output_type": "execute_result",
          "data": {
            "text/plain": [
              "array([], dtype=int32)"
            ]
          },
          "metadata": {
            "tags": []
          },
          "execution_count": 13
        }
      ]
    },
    {
      "cell_type": "code",
      "metadata": {
        "id": "a4-oGtgiUzsb",
        "colab_type": "code",
        "colab": {}
      },
      "source": [
        ""
      ],
      "execution_count": 0,
      "outputs": []
    }
  ]
}