{
  "nbformat": 4,
  "nbformat_minor": 0,
  "metadata": {
    "kernelspec": {
      "display_name": "Python 3",
      "language": "python",
      "name": "python3"
    },
    "language_info": {
      "codemirror_mode": {
        "name": "ipython",
        "version": 2
      },
      "file_extension": ".py",
      "mimetype": "text/x-python",
      "name": "python",
      "nbconvert_exporter": "python",
      "pygments_lexer": "ipython2",
      "version": "2.7.6"
    },
    "pycharm": {
      "stem_cell": {
        "cell_type": "raw",
        "source": [],
        "metadata": {
          "collapsed": false
        }
      }
    },
    "colab": {
      "name": "Process_GTSRB_nb.ipynb",
      "provenance": [],
      "include_colab_link": true
    }
  },
  "cells": [
    {
      "cell_type": "markdown",
      "metadata": {
        "id": "view-in-github",
        "colab_type": "text"
      },
      "source": [
        "<a href=\"https://colab.research.google.com/github/suchendra-h/traffic_sign/blob/master/Process_GTSRB_nb.ipynb\" target=\"_parent\"><img src=\"https://colab.research.google.com/assets/colab-badge.svg\" alt=\"Open In Colab\"/></a>"
      ]
    },
    {
      "cell_type": "code",
      "metadata": {
        "id": "8hNOsX2zf8tY",
        "colab_type": "code",
        "colab": {}
      },
      "source": [
        "from __future__ import absolute_import, division, print_function, unicode_literals\n",
        "from PIL import Image\n",
        "import os\n",
        "import tensorflow as tf\n",
        "from tensorflow.keras import datasets, layers, models\n",
        "from tensorflow.keras.models import Sequential\n",
        "from tensorflow.keras.layers import Dense, Conv2D, Flatten, Dropout, MaxPooling2D\n",
        "from tensorflow.keras.preprocessing.image import ImageDataGenerator\n",
        "import numpy as np\n",
        "import tensorflow_hub as hub\n",
        "import matplotlib\n",
        "import matplotlib.pyplot as plt\n",
        "import zipfile\n",
        "import csv\n",
        "import random\n",
        "import pathlib\n",
        "\n",
        "print(\"Heloo\")\n",
        "training_data_dir = \"C:/Users/sirch/PycharmProjects/TFTutorials/venv/dataset/training\"\n",
        "training_data_dir = pathlib.Path(training_data_dir)\n",
        "image_count = len(list(training_data_dir.glob('*/*.jpg')))\n",
        "training_class_names = np.array([item.name for item in training_data_dir.glob('*') if item.name != \"LICENSE.txt\"])\n",
        "tmp_validation_data_dir = \"C:/Users/sirch/PycharmProjects/TFTutorials/venv/dataset/validation\"\n",
        "tmp_validation_data_dir = pathlib.Path(tmp_validation_data_dir)\n",
        "validation_class_names = np.array([item.name for item in tmp_validation_data_dir.glob('*') if item.name != \"GT-final_test.csv\"])\n",
        "\n",
        "# The 1./255 is to convert from uint8 to float32 in range [0,1].\n",
        "image_generator = tf.keras.preprocessing.image.ImageDataGenerator(rescale=1./255)\n",
        "# image_gen_train = ImageDataGenerator(\n",
        "#                     rescale=1./255,\n",
        "#                     rotation_range=45,\n",
        "#                     width_shift_range=.15,\n",
        "#                     height_shift_range=.15,\n",
        "#                     horizontal_flip=True,\n",
        "#                     zoom_range=0.5\n",
        "#                     )\n",
        "validation_image_generator = ImageDataGenerator(rescale=1./255)\n",
        "BATCH_SIZE = 32\n",
        "IMG_HEIGHT = 224\n",
        "IMG_WIDTH = 224\n",
        "STEPS_PER_EPOCH = np.ceil(image_count/BATCH_SIZE)\n",
        "train_data_gen = image_generator.flow_from_directory(directory=str(training_data_dir),\n",
        "                                                     batch_size=BATCH_SIZE,\n",
        "                                                     shuffle=True,\n",
        "                                                     target_size=(IMG_HEIGHT, IMG_WIDTH),\n",
        "                                                     classes = list(training_class_names))\n",
        "# train_data_gen = image_gen_train.flow_from_directory(directory=str(training_data_dir),\n",
        "#                                                      batch_size=BATCH_SIZE,\n",
        "#                                                      shuffle=True,\n",
        "#                                                      target_size=(IMG_HEIGHT, IMG_WIDTH),\n",
        "#                                                      classes = list(training_class_names))\n",
        "validation_gen = validation_image_generator.flow_from_directory(directory=str(tmp_validation_data_dir),\n",
        "                                                     batch_size=BATCH_SIZE,\n",
        "                                                     shuffle=True   ,\n",
        "                                                     target_size=(IMG_HEIGHT, IMG_WIDTH),\n",
        "                                                     classes = list(validation_class_names))\n",
        "epochs = 30\n",
        "model = models.Sequential()\n",
        "model.add(layers.Conv2D(32, 3, padding='same', activation='relu', input_shape=(IMG_HEIGHT, IMG_WIDTH, 3)))\n",
        "model.add(layers.MaxPooling2D())\n",
        "model.add(layers.SpatialDropout2D(0.1))\n",
        "model.add(layers.Conv2D(32, 3, padding='same', activation='relu'))\n",
        "model.add(layers.MaxPooling2D())\n",
        "model.add(layers.SpatialDropout2D(0.1))\n",
        "model.add(layers.Conv2D(64, 3, padding='same',activation='relu'))\n",
        "model.add(layers.MaxPooling2D())\n",
        "model.add(layers.SpatialDropout2D(0.1))\n",
        "model.add(layers.UpSampling2D())\n",
        "model.add(layers.Conv2D(128, 3, padding='same', activation='relu'))\n",
        "model.add(layers.MaxPooling2D())\n",
        "model.add(layers.SpatialDropout2D(0.1))\n",
        "model.add(Flatten())\n",
        "model.add(Dense(512, activation='relu'))\n",
        "model.add(Dense(43))\n",
        "# ?, activation='softmax'\n",
        "model.compile(optimizer='adam',\n",
        "              loss=tf.keras.losses.CategoricalCrossentropy(from_logits=True),\n",
        "              metrics=['accuracy'])\n",
        "model.summary()\n",
        "# history = model.fit(labeled_training_ds, epochs=5, validation_data=(validation_images, validation_labels))\n",
        "history = model.fit(train_data_gen, epochs=epochs, validation_data=validation_gen)\n",
        "\n",
        "acc = history.history['accuracy']\n",
        "val_acc = history.history['val_accuracy']\n",
        "\n",
        "loss=history.history['loss']\n",
        "val_loss=history.history['val_loss']\n",
        "\n",
        "epochs_range = range(epochs)\n",
        "\n",
        "plt.figure(figsize=(8, 8))\n",
        "plt.subplot(1, 2, 1)\n",
        "plt.plot(epochs_range, acc, label='Training Accuracy')\n",
        "plt.plot(epochs_range, val_acc, label='Validation Accuracy')\n",
        "plt.legend(loc='lower right')\n",
        "plt.title('Training and Validation Accuracy')\n",
        "\n",
        "plt.subplot(1, 2, 2)\n",
        "plt.plot(epochs_range, loss, label='Training Loss')\n",
        "plt.plot(epochs_range, val_loss, label='Validation Loss')\n",
        "plt.legend(loc='upper right')\n",
        "plt.title('Training and Validation Loss')\n",
        "plt.show()\n"
      ],
      "execution_count": 0,
      "outputs": []
    }
  ]
}